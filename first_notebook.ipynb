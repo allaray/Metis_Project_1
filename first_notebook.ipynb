{
 "cells": [
  {
   "cell_type": "code",
   "execution_count": null,
   "metadata": {},
   "outputs": [],
   "source": [
    "import pandas as pd\n",
    "import numpy as np"
   ]
  },
  {
   "cell_type": "code",
   "execution_count": null,
   "metadata": {},
   "outputs": [],
   "source": [
    "df = pd.read_csv('http://web.mta.info/developers/data/nyct/turnstile/turnstile_201128.txt')\n",
    "df.head()"
   ]
  },
  {
   "cell_type": "code",
   "execution_count": null,
   "metadata": {},
   "outputs": [],
   "source": [
    "#Convert Date and Time into a more useable DateTime format and drop old columns.\n",
    "df['DateTime'] = pd.to_datetime(df.DATE+' '+df.TIME)\n",
    "\n",
    "#Record what day of the week each entry is from\n",
    "df['Day']=df.DateTime.dt.day_name()\n",
    "\n",
    "#SCP represents a specific turnstile.\n",
    "#C/A represents a control area. This is a bank of turnstiles.  \n",
    "#Unit represents a remote unit. Usually a whole station, or an area in a complex station.\n",
    "#We can combine all three to create a unique ID for any turnstile\n",
    "df['Unit_ID'] = df.SCP+' '+df['C/A']+' '+df.UNIT\n",
    "\n",
    "#Rename Exits column to remove extra spaces\n",
    "df.rename(columns={'EXITS                                                               ':'EXITS'},inplace=True)\n",
    "\n",
    "#Calculate the entries/exits in a four hour period by finding the difference between rows\n",
    "df['Four Hour Entries'] = df.groupby('Unit_ID').ENTRIES.diff()\n",
    "df['Four Hour Exits'] = df.groupby('Unit_ID').EXITS.diff()\n",
    "\n",
    "#Replace NaN, negative values, and impossibly large values by the average of the turnstile\n",
    "df['Four Hour Entries'].fillna(-1, inplace=True)\n",
    "df['Four Hour Exits'].fillna(-1, inplace=True)\n",
    "df['Four Hour Entries'] = df.groupby(['Unit_ID','C/A'])['Four Hour Entries'].transform(\n",
    "        lambda x: np.where((x<0)|(x>20000),x.mask((x<0)|(x>20000)).mean(),x))\n",
    "df['Four Hour Exits'] = df.groupby(['Unit_ID','C/A'])['Four Hour Exits'].transform(\n",
    "        lambda x: np.where((x<0)|(x>20000),x.mask((x<0)|(x>20000)).mean(),x))\n"
   ]
  },
  {
   "cell_type": "code",
   "execution_count": null,
   "metadata": {},
   "outputs": [],
   "source": []
  },
  {
   "cell_type": "code",
   "execution_count": null,
   "metadata": {},
   "outputs": [],
   "source": [
    "#Find daily sum for each turnstile for each day of the week\n",
    "df_daily = df.groupby(['Unit_ID','DATE'])['Four Hour Entries','Four Hour Exits'].sum()\n",
    "df_daily.head(20)"
   ]
  },
  {
   "cell_type": "code",
   "execution_count": null,
   "metadata": {},
   "outputs": [],
   "source": []
  },
  {
   "cell_type": "code",
   "execution_count": null,
   "metadata": {
    "scrolled": true
   },
   "outputs": [],
   "source": []
  },
  {
   "cell_type": "code",
   "execution_count": null,
   "metadata": {},
   "outputs": [],
   "source": []
  },
  {
   "cell_type": "code",
   "execution_count": null,
   "metadata": {},
   "outputs": [],
   "source": []
  },
  {
   "cell_type": "code",
   "execution_count": null,
   "metadata": {},
   "outputs": [],
   "source": []
  },
  {
   "cell_type": "code",
   "execution_count": null,
   "metadata": {},
   "outputs": [],
   "source": []
  }
 ],
 "metadata": {
  "kernelspec": {
   "display_name": "Python 3",
   "language": "python",
   "name": "python3"
  },
  "language_info": {
   "codemirror_mode": {
    "name": "ipython",
    "version": 3
   },
   "file_extension": ".py",
   "mimetype": "text/x-python",
   "name": "python",
   "nbconvert_exporter": "python",
   "pygments_lexer": "ipython3",
   "version": "3.8.3"
  }
 },
 "nbformat": 4,
 "nbformat_minor": 4
}
